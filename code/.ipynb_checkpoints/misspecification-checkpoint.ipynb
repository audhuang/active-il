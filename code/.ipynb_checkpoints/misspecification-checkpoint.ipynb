{
 "cells": [
  {
   "cell_type": "code",
   "execution_count": 1,
   "id": "8f212791",
   "metadata": {},
   "outputs": [],
   "source": [
    "import numpy as np \n",
    "import matplotlib.pyplot as plt "
   ]
  },
  {
   "cell_type": "code",
   "execution_count": 19,
   "id": "3599118f",
   "metadata": {},
   "outputs": [],
   "source": [
    "def hels_distance(p,q): \n",
    "    diff = np.sqrt(p) - np.sqrt(q)\n",
    "    return 0.5 * np.square(np.linalg.norm(diff))\n",
    "\n",
    "def chis_distance(p,q): \n",
    "    idxs = np.where(p > 0)[0]\n",
    "    return np.sum((np.square(p) / q)[idxs])"
   ]
  },
  {
   "cell_type": "code",
   "execution_count": 22,
   "id": "cbe54223",
   "metadata": {},
   "outputs": [],
   "source": [
    "c = 0.1 \n",
    "eps = 0.01\n",
    "\n",
    "pistar = np.concatenate([(1-c)*np.array([1, 0]), c*np.array([1,0])])\n",
    "pi1 = np.concatenate([(1-c)*np.array([0.5, 0.5]), c*np.array([1,0])])\n",
    "pi2 = np.concatenate([(1-c)*np.array([1-eps, eps]), c*np.array([0,1])])\n",
    "\n"
   ]
  },
  {
   "cell_type": "code",
   "execution_count": 23,
   "id": "49a93b0b",
   "metadata": {},
   "outputs": [
    {
     "name": "stdout",
     "output_type": "stream",
     "text": [
      "0.26360389693210723\n",
      "0.10451130660404205\n",
      "1.9000000000000001\n",
      "inf\n"
     ]
    },
    {
     "name": "stderr",
     "output_type": "stream",
     "text": [
      "/var/folders/nd/ylw3vzr900374y8spw7dz7kr0000gn/T/ipykernel_10233/2496608363.py:7: RuntimeWarning: invalid value encountered in divide\n",
      "  return np.sum((np.square(p) / q)[idxs])\n",
      "/var/folders/nd/ylw3vzr900374y8spw7dz7kr0000gn/T/ipykernel_10233/2496608363.py:7: RuntimeWarning: divide by zero encountered in divide\n",
      "  return np.sum((np.square(p) / q)[idxs])\n"
     ]
    }
   ],
   "source": [
    "print(hels_distance(pistar, pi1))\n",
    "print(hels_distance(pistar, pi2))\n",
    "\n",
    "print(chis_distance(pistar, pi1))\n",
    "print(chis_distance(pistar, pi2))"
   ]
  },
  {
   "cell_type": "code",
   "execution_count": null,
   "id": "fc148460",
   "metadata": {},
   "outputs": [],
   "source": []
  }
 ],
 "metadata": {
  "kernelspec": {
   "display_name": "Python 3 (ipykernel)",
   "language": "python",
   "name": "python3"
  },
  "language_info": {
   "codemirror_mode": {
    "name": "ipython",
    "version": 3
   },
   "file_extension": ".py",
   "mimetype": "text/x-python",
   "name": "python",
   "nbconvert_exporter": "python",
   "pygments_lexer": "ipython3",
   "version": "3.8.19"
  }
 },
 "nbformat": 4,
 "nbformat_minor": 5
}
